{
 "cells": [
  {
   "cell_type": "markdown",
   "id": "6e016ba2",
   "metadata": {},
   "source": [
    "# K Nearest Neighbour Classification\n"
   ]
  },
  {
   "cell_type": "code",
   "execution_count": null,
   "id": "7c838f9f",
   "metadata": {},
   "outputs": [],
   "source": [
    "from pydataset import data\n",
    "import pandas as pd\n",
    "import numpy as np\n",
    "import matplotlib.pyplot as plt\n",
    "from statistics import mean, median, mode, stdev\n",
    "from sklearn.model_selection import train_test_split\n",
    "from sklearn.neighbors import KNeighborsClassifier\n",
    "from sklearn.preprocessing import StandardScaler\n",
    "from sklearn.metrics import mean_squared_error, mean_absolute_error, classification_report, confusion_matrix, roc_curve, roc_auc_score"
   ]
  },
  {
   "cell_type": "code",
   "execution_count": null,
   "id": "c2c6bbd2",
   "metadata": {},
   "outputs": [],
   "source": [
    "# Read in dataset from a .csv file called 'classifier_REDUCED'. \n",
    "# The number of sMCI datapoints had been reduced to match the pCMCI datapoints.\n",
    "df = pd.read_csv('classifer_REDUCED.csv')\n",
    "X = df[['RAVLT', 'LCHP', 'RCHP']]\n",
    "y = df['GROUP']"
   ]
  },
  {
   "cell_type": "code",
   "execution_count": null,
   "id": "79a97c27",
   "metadata": {},
   "outputs": [],
   "source": [
    "X_train,X_test,y_train,y_test = train_test_split(X,y,test_size =.3, random_state = 0)"
   ]
  },
  {
   "cell_type": "markdown",
   "id": "2cf6b1b7",
   "metadata": {},
   "source": [
    "Feature scaling is due to the data being on different scales. It's important to correct for these differences after the train and test splitting to avoid leaking test data information into the rest of the pipeline. \n",
    "\n",
    "The scaling is fitted according to the training data and applied to both training and test sets. "
   ]
  },
  {
   "cell_type": "code",
   "execution_count": null,
   "id": "a96788ef",
   "metadata": {},
   "outputs": [],
   "source": [
    "scaler = StandardScaler()\n",
    "scaler.fit(X_train)\n",
    "X_train = scaler.transform(X_train)\n",
    "X_test = scaler.transform(X_test)"
   ]
  },
  {
   "cell_type": "markdown",
   "id": "bd4cd126",
   "metadata": {},
   "source": [
    "Now train the scaled classifier. "
   ]
  },
  {
   "cell_type": "code",
   "execution_count": null,
   "id": "28877953",
   "metadata": {},
   "outputs": [],
   "source": [
    "classifier = KNeighborsClassifier(n_neighbors=7)\n",
    "classifier.fit(X_train,y_train)"
   ]
  },
  {
   "cell_type": "code",
   "execution_count": null,
   "id": "ca5d2e13",
   "metadata": {},
   "outputs": [],
   "source": [
    "y_pred = classifier.predict(X_test)"
   ]
  },
  {
   "cell_type": "code",
   "execution_count": null,
   "id": "af219ec3",
   "metadata": {},
   "outputs": [],
   "source": [
    "# Show the first 10 model predictions on the test data\n",
    "classifier.predict(X_test)[0:10]"
   ]
  },
  {
   "cell_type": "code",
   "execution_count": null,
   "id": "e729ab49",
   "metadata": {},
   "outputs": [],
   "source": [
    "# Precision is the correct predictions considered correct: TP/(TP + FP)\n",
    "# Recall is Sensitivity\n",
    "# F1 score is the harmonic mean of precision and recall. 1 = all classes correctly predicted. \n",
    "# Sensitivity = TP / (TP + FN) = Recall (1, lower row)\n",
    "# Specificity = TN / (TN + FP) = Recall (0, upper row)\n",
    "# In confusion matrix (R, C), TN = 1,1 FP = 1,2 FN = 2,1 TP = 2,2\n",
    "\n",
    "print(classification_report(y_test,y_pred))\n",
    "print(confusion_matrix(y_test,y_pred))\n",
    "\n",
    "pd.crosstab(y_test, y_pred, rownames=['True'], colnames=['Predicted'], margins=True)"
   ]
  },
  {
   "cell_type": "code",
   "execution_count": null,
   "id": "e3591ba4",
   "metadata": {},
   "outputs": [],
   "source": [
    "# This outputs the accuracy (number of correct predictions / total number of predictions)\n",
    "classifier.score(X_test, y_test)"
   ]
  },
  {
   "cell_type": "code",
   "execution_count": null,
   "id": "116eaed0",
   "metadata": {},
   "outputs": [],
   "source": [
    "# Observe accuracies for different k\n",
    "\n",
    "#Setup arrays to store training and test accuracies\n",
    "neighbors = np.arange(1,15)\n",
    "train_accuracy =np.empty(len(neighbors))\n",
    "test_accuracy = np.empty(len(neighbors))\n",
    "\n",
    "for i,k in enumerate(neighbors):\n",
    "    #Setup a knn classifier with k neighbors\n",
    "    knn = KNeighborsClassifier(n_neighbors=k)\n",
    "    \n",
    "    #Fit the model\n",
    "    knn.fit(X_train, y_train)\n",
    "    \n",
    "    #Compute accuracy on the training set\n",
    "    train_accuracy[i] = knn.score(X_train, y_train)\n",
    "    \n",
    "    #Compute accuracy on the test set\n",
    "    test_accuracy[i] = knn.score(X_test, y_test) "
   ]
  },
  {
   "cell_type": "code",
   "execution_count": null,
   "id": "0428905d",
   "metadata": {
    "scrolled": true
   },
   "outputs": [],
   "source": [
    "# Generate plot\n",
    "plt.title('k-NN Varying number of neighbors')\n",
    "plt.plot(neighbors, test_accuracy, label='Testing Accuracy')\n",
    "plt.plot(neighbors, train_accuracy, label='Training accuracy')\n",
    "plt.legend()\n",
    "plt.xlabel('Number of neighbors')\n",
    "plt.ylabel('Accuracy')\n",
    "plt.show()"
   ]
  },
  {
   "cell_type": "code",
   "execution_count": null,
   "id": "02a37fb3",
   "metadata": {},
   "outputs": [],
   "source": [
    "# ROC curve\n",
    "y_pred_proba = classifier.predict_proba(X_test)[:,1]\n",
    "fpr, tpr, thresholds = roc_curve(y_test, y_pred_proba)"
   ]
  },
  {
   "cell_type": "code",
   "execution_count": null,
   "id": "417091ba",
   "metadata": {},
   "outputs": [],
   "source": [
    "# Area under ROC curve\n",
    "from sklearn.metrics import roc_auc_score\n",
    "roc_auc_score(y_test,y_pred_proba)"
   ]
  },
  {
   "cell_type": "code",
   "execution_count": null,
   "id": "a7df86f5",
   "metadata": {
    "scrolled": true
   },
   "outputs": [],
   "source": [
    "# k-fold cross validation\n",
    "from sklearn.model_selection import cross_val_score\n",
    "knn_cv = KNeighborsClassifier(n_neighbors=7)\n",
    "\n",
    "# Train model with a cv of 10\n",
    "cv_scores = cross_val_score(knn_cv, X, y, cv=10)\n",
    "\n",
    "# Print each CV score (accuracy) and average them\n",
    "print(cv_scores)\n",
    "print('Mean CV score: {}'.format(np.mean(cv_scores)))"
   ]
  },
  {
   "cell_type": "markdown",
   "id": "54a910aa",
   "metadata": {},
   "source": [
    "The following cells are to make plots from the data. "
   ]
  },
  {
   "cell_type": "code",
   "execution_count": null,
   "id": "fba4626f",
   "metadata": {
    "scrolled": true
   },
   "outputs": [],
   "source": [
    "# Make violin plots from data\n",
    "import seaborn as sn\n",
    "sn.set(style = 'whitegrid')\n",
    "plt.figure(figsize = (9,9), dpi = 600)\n",
    "ax = sn.violinplot(x = df[\"GROUP\"], y = df[\"LCHP\"], inner = \"quartile\", palette = \"Set2\")\n",
    "plt.tick_params(axis = 'x', labelsize = 16)\n",
    "plt.tick_params(axis = 'y', labelsize = 16)\n",
    "ax.set_ylabel(\"Left ChP Volume (Normalized)\", fontsize = 16)\n",
    "ax.set_xlabel(\"Group\", fontsize = 16)\n",
    "ax.set_xticklabels(['pMCI', 'sMCI'])\n",
    "\n",
    "plt.savefig(\"LCHP_ViolinPlot.tiff\")"
   ]
  },
  {
   "cell_type": "code",
   "execution_count": null,
   "id": "2ee8ab24",
   "metadata": {},
   "outputs": [],
   "source": [
    "# Make ROC plot\n",
    "import seaborn as sn\n",
    "sn.set(style = 'white')\n",
    "plt.figure(figsize = (9,9), dpi = 600, linewidth = 3)\n",
    "\n",
    "plt.plot([0,1],[0,1],'k--')\n",
    "plt.plot(fpr,tpr, label='Knn', color = 'red', linewidth = 4)\n",
    "plt.xlabel('False positive rate', fontsize = 28)\n",
    "plt.ylabel('True positive rate', fontsize = 28)\n",
    "plt.title('RAVLT-I and Left and Right ChP Volume', fontsize = 30, weight = 'bold')\n",
    "plt.tick_params(axis = 'x', labelsize = 24)\n",
    "plt.tick_params(axis = 'y', labelsize = 24)\n",
    "plt.savefig(\"RAVLT_LCHP_RCHP_ROC.tiff\")"
   ]
  }
 ],
 "metadata": {
  "kernelspec": {
   "display_name": "Python 3 (ipykernel)",
   "language": "python",
   "name": "python3"
  },
  "language_info": {
   "codemirror_mode": {
    "name": "ipython",
    "version": 3
   },
   "file_extension": ".py",
   "mimetype": "text/x-python",
   "name": "python",
   "nbconvert_exporter": "python",
   "pygments_lexer": "ipython3",
   "version": "3.9.12"
  }
 },
 "nbformat": 4,
 "nbformat_minor": 5
}
